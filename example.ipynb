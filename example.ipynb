{
 "cells": [
  {
   "cell_type": "markdown",
   "metadata": {},
   "source": [
    "# Create a hdf5 file\n",
    "We create a file and store a single python array inside the file named `pyiron.h5`"
   ]
  },
  {
   "cell_type": "code",
   "execution_count": 1,
   "metadata": {},
   "outputs": [],
   "source": [
    "import h5py"
   ]
  },
  {
   "cell_type": "code",
   "execution_count": 2,
   "metadata": {},
   "outputs": [],
   "source": [
    "with h5py.File('pyiron.h5', mode='w') as f:\n",
    "    f['dataset'] = range(10)"
   ]
  },
  {
   "cell_type": "markdown",
   "metadata": {},
   "source": [
    "# Transfer data to remote server\n",
    "Following the steps on https://github.com/minio/minio-py"
   ]
  },
  {
   "cell_type": "code",
   "execution_count": 3,
   "metadata": {},
   "outputs": [],
   "source": [
    "from minio import Minio\n",
    "from minio.error import (ResponseError, BucketAlreadyOwnedByYou,\n",
    "                         BucketAlreadyExists)"
   ]
  },
  {
   "cell_type": "code",
   "execution_count": 4,
   "metadata": {},
   "outputs": [],
   "source": [
    "minioClient = Minio(\n",
    "    'play.min.io',\n",
    "    access_key='Q3AM3UQ867SPQQA43P2F',\n",
    "    secret_key='zuf+tfteSlswRu7BJ86wekitnifILbZam1KYY3TG',\n",
    "    secure=True\n",
    ")"
   ]
  },
  {
   "cell_type": "code",
   "execution_count": 5,
   "metadata": {},
   "outputs": [],
   "source": [
    "try:\n",
    "       minioClient.make_bucket(\"pyiron\", location=\"us-east-1\")\n",
    "except BucketAlreadyOwnedByYou as err:\n",
    "       pass\n",
    "except BucketAlreadyExists as err:\n",
    "       pass\n",
    "except ResponseError as err:\n",
    "       raise"
   ]
  },
  {
   "cell_type": "code",
   "execution_count": 6,
   "metadata": {},
   "outputs": [],
   "source": [
    "try:\n",
    "       minioClient.fput_object('pyiron', 'pyiron.h5', 'pyiron.h5')\n",
    "except ResponseError as err:\n",
    "       print(err)"
   ]
  },
  {
   "cell_type": "code",
   "execution_count": 7,
   "metadata": {},
   "outputs": [],
   "source": [
    "try:\n",
    "       minioClient.fget_object('pyiron', 'pyiron.h5', 'pyiron_download.h5')\n",
    "except ResponseError as err:\n",
    "       print(err)"
   ]
  },
  {
   "cell_type": "markdown",
   "metadata": {},
   "source": [
    "# Read the numpy array from the file"
   ]
  },
  {
   "cell_type": "code",
   "execution_count": 8,
   "metadata": {},
   "outputs": [
    {
     "name": "stderr",
     "output_type": "stream",
     "text": [
      "<ipython-input-8-c2c11b3e19e0>:1: H5pyDeprecationWarning: dataset.value has been deprecated. Use dataset[()] instead.\n",
      "  h5py.File('pyiron_download.h5', mode='r')['dataset'].value\n"
     ]
    },
    {
     "data": {
      "text/plain": [
       "array([0, 1, 2, 3, 4, 5, 6, 7, 8, 9])"
      ]
     },
     "execution_count": 8,
     "metadata": {},
     "output_type": "execute_result"
    }
   ],
   "source": [
    "h5py.File('pyiron_download.h5', mode='r')['dataset'].value"
   ]
  },
  {
   "cell_type": "code",
   "execution_count": null,
   "metadata": {},
   "outputs": [],
   "source": []
  }
 ],
 "metadata": {
  "kernelspec": {
   "display_name": "Python 3",
   "language": "python",
   "name": "python3"
  },
  "language_info": {
   "codemirror_mode": {
    "name": "ipython",
    "version": 3
   },
   "file_extension": ".py",
   "mimetype": "text/x-python",
   "name": "python",
   "nbconvert_exporter": "python",
   "pygments_lexer": "ipython3",
   "version": "3.8.2"
  }
 },
 "nbformat": 4,
 "nbformat_minor": 4
}
